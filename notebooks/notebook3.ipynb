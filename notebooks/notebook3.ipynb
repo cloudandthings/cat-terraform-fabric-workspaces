{
 "cells": [
  {
   "cell_type": "code",
   "execution_count": null,
   "id": "f10d0a7f",
   "metadata": {
    "vscode": {
     "languageId": "plaintext"
    }
   },
   "outputs": [],
   "source": [
    "query = \"\"\"\n",
    "select * from bigquery-public-data.google_trends.top_terms limit 100;\n",
    "\"\"\""
   ]
  }
 ],
 "metadata": {
  "language_info": {
   "name": "python"
  }
 },
 "nbformat": 4,
 "nbformat_minor": 5
}
